{
 "cells": [
  {
   "cell_type": "markdown",
   "metadata": {},
   "source": [
    "Handwritten digit recognition using pythorch CNN"
   ]
  },
  {
   "cell_type": "code",
   "execution_count": 6,
   "metadata": {},
   "outputs": [],
   "source": [
    "from torchvision import datasets\n",
    "from torchvision.transforms import ToTensor\n"
   ]
  },
  {
   "cell_type": "code",
   "execution_count": 7,
   "metadata": {},
   "outputs": [],
   "source": [
    "train_data = datasets.MNIST(root = 'data',train = True, transform = ToTensor(),download = True)\n",
    "test_data = datasets.MNIST(root = 'data',train = False, transform = ToTensor(),download = True)\n"
   ]
  },
  {
   "cell_type": "code",
   "execution_count": 8,
   "metadata": {},
   "outputs": [
    {
     "data": {
      "text/plain": [
       "Dataset MNIST\n",
       "    Number of datapoints: 60000\n",
       "    Root location: data\n",
       "    Split: Train\n",
       "    StandardTransform\n",
       "Transform: ToTensor()"
      ]
     },
     "metadata": {},
     "output_type": "display_data"
    },
    {
     "data": {
      "text/plain": [
       "Dataset MNIST\n",
       "    Number of datapoints: 10000\n",
       "    Root location: data\n",
       "    Split: Test\n",
       "    StandardTransform\n",
       "Transform: ToTensor()"
      ]
     },
     "metadata": {},
     "output_type": "display_data"
    },
    {
     "data": {
      "text/plain": [
       "torch.Size([60000, 28, 28])"
      ]
     },
     "metadata": {},
     "output_type": "display_data"
    },
    {
     "data": {
      "text/plain": [
       "tensor([5, 0, 4,  ..., 5, 6, 8])"
      ]
     },
     "metadata": {},
     "output_type": "display_data"
    }
   ],
   "source": [
    "display(train_data)\n",
    "display(test_data)\n",
    "display(train_data.data.shape)\n",
    "display(train_data.targets)\n",
    "\n"
   ]
  },
  {
   "cell_type": "markdown",
   "metadata": {},
   "source": [
    "Provide dataloader to train in batches"
   ]
  },
  {
   "cell_type": "code",
   "execution_count": 9,
   "metadata": {},
   "outputs": [
    {
     "data": {
      "text/plain": [
       "{'train': <torch.utils.data.dataloader.DataLoader at 0x7f5c625aeb10>,\n",
       " 'test': <torch.utils.data.dataloader.DataLoader at 0x7f5c625af830>}"
      ]
     },
     "execution_count": 9,
     "metadata": {},
     "output_type": "execute_result"
    }
   ],
   "source": [
    "from torch.utils.data import DataLoader\n",
    "\n",
    "loaders =  {\n",
    "    'train' : DataLoader(train_data,batch_size=100,shuffle=True,num_workers=1),\n",
    "    'test': DataLoader(test_data,batch_size=100,shuffle=True,num_workers=1)        \n",
    "            }\n",
    "loaders\n",
    "\n"
   ]
  },
  {
   "cell_type": "code",
   "execution_count": 10,
   "metadata": {},
   "outputs": [],
   "source": [
    "import torch.nn as nn\n",
    "import torch.nn.functional as F\n",
    "import torch.optim as optim\n",
    "\n",
    "class CNN(nn.Module):\n",
    "    def __init__(self):\n",
    "        super(CNN,self).__init__()\n",
    "        self.conv1 = nn.Conv2d(1,10,5)\n",
    "        self.conv2 = nn.Conv2d(10,20,5)\n",
    "        self.conv2_drop = nn.Dropout2d()\n",
    "        self.fc1 = nn.Linear(320,50)\n",
    "        self.fc2 = nn.Linear(50,10)\n",
    "        \n",
    "    def forward (self, x):\n",
    "        x = F.relu(F.max_pool2d(self.conv1(x),2))\n",
    "        x = F.relu(F.max_pool2d(self.conv2_drop(self.conv2(x)),2 )) \n",
    "        x = x.view(-1,320)\n",
    "        x = F.relu(self.fc1(x))\n",
    "        x = F.dropout(x, training=self.training)\n",
    "        x = self.fc2(x)\n",
    "        \n",
    "        return F.softmax(x, dim =1 )\n",
    "\n",
    " \n"
   ]
  },
  {
   "cell_type": "code",
   "execution_count": 11,
   "metadata": {},
   "outputs": [
    {
     "name": "stdout",
     "output_type": "stream",
     "text": [
      "<bound method Module.parameters of CNN(\n",
      "  (conv1): Conv2d(1, 10, kernel_size=(5, 5), stride=(1, 1))\n",
      "  (conv2): Conv2d(10, 20, kernel_size=(5, 5), stride=(1, 1))\n",
      "  (conv2_drop): Dropout2d(p=0.5, inplace=False)\n",
      "  (fc1): Linear(in_features=320, out_features=50, bias=True)\n",
      "  (fc2): Linear(in_features=50, out_features=10, bias=True)\n",
      ")>\n"
     ]
    }
   ],
   "source": [
    "import torch\n",
    "\n",
    "device = torch.device('cuda' if torch.cuda.is_available() else 'cpu' )\n",
    "\n",
    "model = CNN().to(device)\n",
    "\n",
    "optimizer = optim.Adam(model.parameters(),lr=0.001)\n",
    "print(model.parameters)\n",
    "\n",
    "loss_fn = nn.CrossEntropyLoss()\n",
    "\n"
   ]
  },
  {
   "cell_type": "code",
   "execution_count": 12,
   "metadata": {},
   "outputs": [],
   "source": [
    "\n",
    "def train(epoch):\n",
    "    model.train()\n",
    "    for batch_idx, (data,target) in enumerate(loaders['train']):\n",
    "        data,target = data.to(device),target.to(device)\n",
    "        optimizer.zero_grad()\n",
    "        output = model(data)\n",
    "        loss = loss_fn(output,target)\n",
    "        loss.backward()\n",
    "        optimizer.step()\n",
    "        if batch_idx % 20 == 0:\n",
    "            print(f\"train epoch is:{epoch}[{batch_idx * len(data)}/{len(loaders['train'].dataset)} ({100.*batch_idx / len(loaders['train']):.0}%)]\\t({loss.item():.6})\")\n",
    "            "
   ]
  },
  {
   "cell_type": "code",
   "execution_count": 13,
   "metadata": {},
   "outputs": [],
   "source": [
    "def test():\n",
    "    model.eval()\n",
    "    test_loss = 0 \n",
    "    correct = 0\n",
    "    \n",
    "    with torch.no_grad():\n",
    "        for data, target in loaders['test']:\n",
    "            data, target = data.to(device),target.to(device)\n",
    "            output = model(data)\n",
    "            test_loss += loss_fn(output,target).item()\n",
    "            pred = output.argmax(dim=1, keepdim= True)\n",
    "            correct += pred.eq(target.view_as(pred)).sum().item()\n",
    "    test_loss /= len(loaders['test'].dataset)\n",
    "    print(f'\\n Test set: Average Loss: {test_loss:.4f}, Accuracy: {correct}/{len(loaders['test'].dataset)} ({100. * correct / len(loaders['test'].dataset):.0f}%\\n)')\n"
   ]
  },
  {
   "cell_type": "markdown",
   "metadata": {},
   "source": [
    "Start the training"
   ]
  },
  {
   "cell_type": "code",
   "execution_count": 14,
   "metadata": {},
   "outputs": [
    {
     "name": "stdout",
     "output_type": "stream",
     "text": [
      "train epoch is:1[0/60000 (0e+00%)]\t(2.30204)\n",
      "train epoch is:1[2000/60000 (3e+00%)]\t(2.29499)\n",
      "train epoch is:1[4000/60000 (7e+00%)]\t(2.1677)\n",
      "train epoch is:1[6000/60000 (1e+01%)]\t(2.04567)\n",
      "train epoch is:1[8000/60000 (1e+01%)]\t(1.92966)\n",
      "train epoch is:1[10000/60000 (2e+01%)]\t(1.85995)\n",
      "train epoch is:1[12000/60000 (2e+01%)]\t(1.76532)\n",
      "train epoch is:1[14000/60000 (2e+01%)]\t(1.83615)\n",
      "train epoch is:1[16000/60000 (3e+01%)]\t(1.69491)\n",
      "train epoch is:1[18000/60000 (3e+01%)]\t(1.79389)\n",
      "train epoch is:1[20000/60000 (3e+01%)]\t(1.69658)\n",
      "train epoch is:1[22000/60000 (4e+01%)]\t(1.74043)\n",
      "train epoch is:1[24000/60000 (4e+01%)]\t(1.71374)\n",
      "train epoch is:1[26000/60000 (4e+01%)]\t(1.71352)\n",
      "train epoch is:1[28000/60000 (5e+01%)]\t(1.61829)\n",
      "train epoch is:1[30000/60000 (5e+01%)]\t(1.59364)\n",
      "train epoch is:1[32000/60000 (5e+01%)]\t(1.60663)\n",
      "train epoch is:1[34000/60000 (6e+01%)]\t(1.60711)\n",
      "train epoch is:1[36000/60000 (6e+01%)]\t(1.57311)\n",
      "train epoch is:1[38000/60000 (6e+01%)]\t(1.5807)\n",
      "train epoch is:1[40000/60000 (7e+01%)]\t(1.63119)\n",
      "train epoch is:1[42000/60000 (7e+01%)]\t(1.59204)\n",
      "train epoch is:1[44000/60000 (7e+01%)]\t(1.62957)\n",
      "train epoch is:1[46000/60000 (8e+01%)]\t(1.62329)\n",
      "train epoch is:1[48000/60000 (8e+01%)]\t(1.6031)\n",
      "train epoch is:1[50000/60000 (8e+01%)]\t(1.58307)\n",
      "train epoch is:1[52000/60000 (9e+01%)]\t(1.6152)\n",
      "train epoch is:1[54000/60000 (9e+01%)]\t(1.57142)\n",
      "train epoch is:1[56000/60000 (9e+01%)]\t(1.59913)\n",
      "train epoch is:1[58000/60000 (1e+02%)]\t(1.59252)\n",
      "\n",
      " Test set: Average Loss: 0.0152, Accuracy: 9421/10000 (94%\n",
      ")\n",
      "train epoch is:2[0/60000 (0e+00%)]\t(1.60815)\n",
      "train epoch is:2[2000/60000 (3e+00%)]\t(1.60049)\n",
      "train epoch is:2[4000/60000 (7e+00%)]\t(1.64406)\n",
      "train epoch is:2[6000/60000 (1e+01%)]\t(1.62513)\n",
      "train epoch is:2[8000/60000 (1e+01%)]\t(1.58918)\n",
      "train epoch is:2[10000/60000 (2e+01%)]\t(1.56726)\n",
      "train epoch is:2[12000/60000 (2e+01%)]\t(1.57867)\n",
      "train epoch is:2[14000/60000 (2e+01%)]\t(1.63989)\n",
      "train epoch is:2[16000/60000 (3e+01%)]\t(1.57379)\n",
      "train epoch is:2[18000/60000 (3e+01%)]\t(1.57505)\n",
      "train epoch is:2[20000/60000 (3e+01%)]\t(1.56917)\n",
      "train epoch is:2[22000/60000 (4e+01%)]\t(1.64271)\n",
      "train epoch is:2[24000/60000 (4e+01%)]\t(1.58118)\n",
      "train epoch is:2[26000/60000 (4e+01%)]\t(1.56923)\n",
      "train epoch is:2[28000/60000 (5e+01%)]\t(1.61245)\n",
      "train epoch is:2[30000/60000 (5e+01%)]\t(1.53592)\n",
      "train epoch is:2[32000/60000 (5e+01%)]\t(1.56339)\n",
      "train epoch is:2[34000/60000 (6e+01%)]\t(1.54151)\n",
      "train epoch is:2[36000/60000 (6e+01%)]\t(1.58532)\n",
      "train epoch is:2[38000/60000 (6e+01%)]\t(1.54418)\n",
      "train epoch is:2[40000/60000 (7e+01%)]\t(1.58838)\n",
      "train epoch is:2[42000/60000 (7e+01%)]\t(1.56151)\n",
      "train epoch is:2[44000/60000 (7e+01%)]\t(1.58897)\n",
      "train epoch is:2[46000/60000 (8e+01%)]\t(1.55566)\n",
      "train epoch is:2[48000/60000 (8e+01%)]\t(1.57335)\n",
      "train epoch is:2[50000/60000 (8e+01%)]\t(1.59849)\n",
      "train epoch is:2[52000/60000 (9e+01%)]\t(1.53782)\n",
      "train epoch is:2[54000/60000 (9e+01%)]\t(1.52499)\n",
      "train epoch is:2[56000/60000 (9e+01%)]\t(1.56568)\n",
      "train epoch is:2[58000/60000 (1e+02%)]\t(1.53932)\n",
      "\n",
      " Test set: Average Loss: 0.0151, Accuracy: 9552/10000 (96%\n",
      ")\n",
      "train epoch is:3[0/60000 (0e+00%)]\t(1.5636)\n",
      "train epoch is:3[2000/60000 (3e+00%)]\t(1.56119)\n",
      "train epoch is:3[4000/60000 (7e+00%)]\t(1.47484)\n",
      "train epoch is:3[6000/60000 (1e+01%)]\t(1.55844)\n",
      "train epoch is:3[8000/60000 (1e+01%)]\t(1.54728)\n",
      "train epoch is:3[10000/60000 (2e+01%)]\t(1.5372)\n",
      "train epoch is:3[12000/60000 (2e+01%)]\t(1.5379)\n",
      "train epoch is:3[14000/60000 (2e+01%)]\t(1.52164)\n",
      "train epoch is:3[16000/60000 (3e+01%)]\t(1.59329)\n",
      "train epoch is:3[18000/60000 (3e+01%)]\t(1.52218)\n",
      "train epoch is:3[20000/60000 (3e+01%)]\t(1.58504)\n",
      "train epoch is:3[22000/60000 (4e+01%)]\t(1.55662)\n",
      "train epoch is:3[24000/60000 (4e+01%)]\t(1.56557)\n",
      "train epoch is:3[26000/60000 (4e+01%)]\t(1.50038)\n",
      "train epoch is:3[28000/60000 (5e+01%)]\t(1.57087)\n",
      "train epoch is:3[30000/60000 (5e+01%)]\t(1.6128)\n",
      "train epoch is:3[32000/60000 (5e+01%)]\t(1.52041)\n",
      "train epoch is:3[34000/60000 (6e+01%)]\t(1.53595)\n",
      "train epoch is:3[36000/60000 (6e+01%)]\t(1.51616)\n",
      "train epoch is:3[38000/60000 (6e+01%)]\t(1.55826)\n",
      "train epoch is:3[40000/60000 (7e+01%)]\t(1.53876)\n",
      "train epoch is:3[42000/60000 (7e+01%)]\t(1.54548)\n",
      "train epoch is:3[44000/60000 (7e+01%)]\t(1.55507)\n",
      "train epoch is:3[46000/60000 (8e+01%)]\t(1.58364)\n",
      "train epoch is:3[48000/60000 (8e+01%)]\t(1.53491)\n",
      "train epoch is:3[50000/60000 (8e+01%)]\t(1.55241)\n",
      "train epoch is:3[52000/60000 (9e+01%)]\t(1.58293)\n",
      "train epoch is:3[54000/60000 (9e+01%)]\t(1.55612)\n",
      "train epoch is:3[56000/60000 (9e+01%)]\t(1.57556)\n",
      "train epoch is:3[58000/60000 (1e+02%)]\t(1.50983)\n",
      "\n",
      " Test set: Average Loss: 0.0150, Accuracy: 9610/10000 (96%\n",
      ")\n",
      "train epoch is:4[0/60000 (0e+00%)]\t(1.5168)\n",
      "train epoch is:4[2000/60000 (3e+00%)]\t(1.54215)\n",
      "train epoch is:4[4000/60000 (7e+00%)]\t(1.5191)\n",
      "train epoch is:4[6000/60000 (1e+01%)]\t(1.56698)\n",
      "train epoch is:4[8000/60000 (1e+01%)]\t(1.55644)\n",
      "train epoch is:4[10000/60000 (2e+01%)]\t(1.55293)\n",
      "train epoch is:4[12000/60000 (2e+01%)]\t(1.5605)\n",
      "train epoch is:4[14000/60000 (2e+01%)]\t(1.53118)\n",
      "train epoch is:4[16000/60000 (3e+01%)]\t(1.55547)\n",
      "train epoch is:4[18000/60000 (3e+01%)]\t(1.52327)\n",
      "train epoch is:4[20000/60000 (3e+01%)]\t(1.55603)\n",
      "train epoch is:4[22000/60000 (4e+01%)]\t(1.55602)\n",
      "train epoch is:4[24000/60000 (4e+01%)]\t(1.58792)\n",
      "train epoch is:4[26000/60000 (4e+01%)]\t(1.52928)\n",
      "train epoch is:4[28000/60000 (5e+01%)]\t(1.54176)\n",
      "train epoch is:4[30000/60000 (5e+01%)]\t(1.55255)\n",
      "train epoch is:4[32000/60000 (5e+01%)]\t(1.58785)\n",
      "train epoch is:4[34000/60000 (6e+01%)]\t(1.55105)\n",
      "train epoch is:4[36000/60000 (6e+01%)]\t(1.56835)\n",
      "train epoch is:4[38000/60000 (6e+01%)]\t(1.55716)\n",
      "train epoch is:4[40000/60000 (7e+01%)]\t(1.54443)\n",
      "train epoch is:4[42000/60000 (7e+01%)]\t(1.56264)\n",
      "train epoch is:4[44000/60000 (7e+01%)]\t(1.56507)\n",
      "train epoch is:4[46000/60000 (8e+01%)]\t(1.53319)\n",
      "train epoch is:4[48000/60000 (8e+01%)]\t(1.58558)\n",
      "train epoch is:4[50000/60000 (8e+01%)]\t(1.50679)\n",
      "train epoch is:4[52000/60000 (9e+01%)]\t(1.55162)\n",
      "train epoch is:4[54000/60000 (9e+01%)]\t(1.52623)\n",
      "train epoch is:4[56000/60000 (9e+01%)]\t(1.53564)\n",
      "train epoch is:4[58000/60000 (1e+02%)]\t(1.5774)\n",
      "\n",
      " Test set: Average Loss: 0.0150, Accuracy: 9658/10000 (97%\n",
      ")\n",
      "train epoch is:5[0/60000 (0e+00%)]\t(1.56483)\n",
      "train epoch is:5[2000/60000 (3e+00%)]\t(1.5216)\n",
      "train epoch is:5[4000/60000 (7e+00%)]\t(1.59403)\n",
      "train epoch is:5[6000/60000 (1e+01%)]\t(1.52281)\n",
      "train epoch is:5[8000/60000 (1e+01%)]\t(1.58811)\n",
      "train epoch is:5[10000/60000 (2e+01%)]\t(1.53207)\n",
      "train epoch is:5[12000/60000 (2e+01%)]\t(1.58626)\n",
      "train epoch is:5[14000/60000 (2e+01%)]\t(1.54113)\n",
      "train epoch is:5[16000/60000 (3e+01%)]\t(1.5446)\n",
      "train epoch is:5[18000/60000 (3e+01%)]\t(1.54829)\n",
      "train epoch is:5[20000/60000 (3e+01%)]\t(1.58657)\n",
      "train epoch is:5[22000/60000 (4e+01%)]\t(1.54388)\n",
      "train epoch is:5[24000/60000 (4e+01%)]\t(1.5251)\n",
      "train epoch is:5[26000/60000 (4e+01%)]\t(1.5445)\n",
      "train epoch is:5[28000/60000 (5e+01%)]\t(1.57068)\n",
      "train epoch is:5[30000/60000 (5e+01%)]\t(1.54039)\n",
      "train epoch is:5[32000/60000 (5e+01%)]\t(1.53339)\n",
      "train epoch is:5[34000/60000 (6e+01%)]\t(1.57964)\n",
      "train epoch is:5[36000/60000 (6e+01%)]\t(1.54181)\n",
      "train epoch is:5[38000/60000 (6e+01%)]\t(1.54806)\n",
      "train epoch is:5[40000/60000 (7e+01%)]\t(1.55123)\n",
      "train epoch is:5[42000/60000 (7e+01%)]\t(1.55669)\n",
      "train epoch is:5[44000/60000 (7e+01%)]\t(1.5181)\n",
      "train epoch is:5[46000/60000 (8e+01%)]\t(1.56005)\n",
      "train epoch is:5[48000/60000 (8e+01%)]\t(1.5227)\n",
      "train epoch is:5[50000/60000 (8e+01%)]\t(1.52523)\n",
      "train epoch is:5[52000/60000 (9e+01%)]\t(1.55916)\n",
      "train epoch is:5[54000/60000 (9e+01%)]\t(1.58503)\n",
      "train epoch is:5[56000/60000 (9e+01%)]\t(1.53901)\n",
      "train epoch is:5[58000/60000 (1e+02%)]\t(1.49873)\n",
      "\n",
      " Test set: Average Loss: 0.0150, Accuracy: 9667/10000 (97%\n",
      ")\n",
      "train epoch is:6[0/60000 (0e+00%)]\t(1.54158)\n",
      "train epoch is:6[2000/60000 (3e+00%)]\t(1.52688)\n",
      "train epoch is:6[4000/60000 (7e+00%)]\t(1.48745)\n",
      "train epoch is:6[6000/60000 (1e+01%)]\t(1.53384)\n",
      "train epoch is:6[8000/60000 (1e+01%)]\t(1.49252)\n",
      "train epoch is:6[10000/60000 (2e+01%)]\t(1.51539)\n",
      "train epoch is:6[12000/60000 (2e+01%)]\t(1.55331)\n",
      "train epoch is:6[14000/60000 (2e+01%)]\t(1.51584)\n",
      "train epoch is:6[16000/60000 (3e+01%)]\t(1.52222)\n",
      "train epoch is:6[18000/60000 (3e+01%)]\t(1.50257)\n",
      "train epoch is:6[20000/60000 (3e+01%)]\t(1.52185)\n",
      "train epoch is:6[22000/60000 (4e+01%)]\t(1.55612)\n",
      "train epoch is:6[24000/60000 (4e+01%)]\t(1.52702)\n",
      "train epoch is:6[26000/60000 (4e+01%)]\t(1.54418)\n",
      "train epoch is:6[28000/60000 (5e+01%)]\t(1.56306)\n",
      "train epoch is:6[30000/60000 (5e+01%)]\t(1.55471)\n",
      "train epoch is:6[32000/60000 (5e+01%)]\t(1.51909)\n",
      "train epoch is:6[34000/60000 (6e+01%)]\t(1.52776)\n",
      "train epoch is:6[36000/60000 (6e+01%)]\t(1.56366)\n",
      "train epoch is:6[38000/60000 (6e+01%)]\t(1.49703)\n",
      "train epoch is:6[40000/60000 (7e+01%)]\t(1.50641)\n",
      "train epoch is:6[42000/60000 (7e+01%)]\t(1.54297)\n",
      "train epoch is:6[44000/60000 (7e+01%)]\t(1.52065)\n",
      "train epoch is:6[46000/60000 (8e+01%)]\t(1.56218)\n",
      "train epoch is:6[48000/60000 (8e+01%)]\t(1.52532)\n",
      "train epoch is:6[50000/60000 (8e+01%)]\t(1.50566)\n",
      "train epoch is:6[52000/60000 (9e+01%)]\t(1.48594)\n",
      "train epoch is:6[54000/60000 (9e+01%)]\t(1.5927)\n",
      "train epoch is:6[56000/60000 (9e+01%)]\t(1.51218)\n",
      "train epoch is:6[58000/60000 (1e+02%)]\t(1.50994)\n",
      "\n",
      " Test set: Average Loss: 0.0149, Accuracy: 9688/10000 (97%\n",
      ")\n",
      "train epoch is:7[0/60000 (0e+00%)]\t(1.52298)\n",
      "train epoch is:7[2000/60000 (3e+00%)]\t(1.52858)\n",
      "train epoch is:7[4000/60000 (7e+00%)]\t(1.4794)\n",
      "train epoch is:7[6000/60000 (1e+01%)]\t(1.52459)\n",
      "train epoch is:7[8000/60000 (1e+01%)]\t(1.52299)\n",
      "train epoch is:7[10000/60000 (2e+01%)]\t(1.56227)\n",
      "train epoch is:7[12000/60000 (2e+01%)]\t(1.58196)\n",
      "train epoch is:7[14000/60000 (2e+01%)]\t(1.52592)\n",
      "train epoch is:7[16000/60000 (3e+01%)]\t(1.52)\n",
      "train epoch is:7[18000/60000 (3e+01%)]\t(1.53499)\n",
      "train epoch is:7[20000/60000 (3e+01%)]\t(1.52817)\n",
      "train epoch is:7[22000/60000 (4e+01%)]\t(1.51117)\n",
      "train epoch is:7[24000/60000 (4e+01%)]\t(1.52267)\n",
      "train epoch is:7[26000/60000 (4e+01%)]\t(1.54771)\n",
      "train epoch is:7[28000/60000 (5e+01%)]\t(1.54255)\n",
      "train epoch is:7[30000/60000 (5e+01%)]\t(1.53154)\n",
      "train epoch is:7[32000/60000 (5e+01%)]\t(1.50604)\n",
      "train epoch is:7[34000/60000 (6e+01%)]\t(1.50225)\n",
      "train epoch is:7[36000/60000 (6e+01%)]\t(1.5357)\n",
      "train epoch is:7[38000/60000 (6e+01%)]\t(1.50471)\n",
      "train epoch is:7[40000/60000 (7e+01%)]\t(1.51647)\n",
      "train epoch is:7[42000/60000 (7e+01%)]\t(1.5976)\n",
      "train epoch is:7[44000/60000 (7e+01%)]\t(1.50997)\n",
      "train epoch is:7[46000/60000 (8e+01%)]\t(1.54245)\n",
      "train epoch is:7[48000/60000 (8e+01%)]\t(1.53635)\n",
      "train epoch is:7[50000/60000 (8e+01%)]\t(1.5334)\n",
      "train epoch is:7[52000/60000 (9e+01%)]\t(1.55612)\n",
      "train epoch is:7[54000/60000 (9e+01%)]\t(1.56377)\n",
      "train epoch is:7[56000/60000 (9e+01%)]\t(1.55201)\n",
      "train epoch is:7[58000/60000 (1e+02%)]\t(1.55371)\n",
      "\n",
      " Test set: Average Loss: 0.0149, Accuracy: 9736/10000 (97%\n",
      ")\n",
      "train epoch is:8[0/60000 (0e+00%)]\t(1.54186)\n",
      "train epoch is:8[2000/60000 (3e+00%)]\t(1.56387)\n",
      "train epoch is:8[4000/60000 (7e+00%)]\t(1.52813)\n",
      "train epoch is:8[6000/60000 (1e+01%)]\t(1.50069)\n",
      "train epoch is:8[8000/60000 (1e+01%)]\t(1.51693)\n",
      "train epoch is:8[10000/60000 (2e+01%)]\t(1.56407)\n",
      "train epoch is:8[12000/60000 (2e+01%)]\t(1.5401)\n",
      "train epoch is:8[14000/60000 (2e+01%)]\t(1.51595)\n",
      "train epoch is:8[16000/60000 (3e+01%)]\t(1.57068)\n",
      "train epoch is:8[18000/60000 (3e+01%)]\t(1.53304)\n",
      "train epoch is:8[20000/60000 (3e+01%)]\t(1.51291)\n",
      "train epoch is:8[22000/60000 (4e+01%)]\t(1.54694)\n",
      "train epoch is:8[24000/60000 (4e+01%)]\t(1.51342)\n",
      "train epoch is:8[26000/60000 (4e+01%)]\t(1.53617)\n",
      "train epoch is:8[28000/60000 (5e+01%)]\t(1.54171)\n",
      "train epoch is:8[30000/60000 (5e+01%)]\t(1.52371)\n",
      "train epoch is:8[32000/60000 (5e+01%)]\t(1.51014)\n",
      "train epoch is:8[34000/60000 (6e+01%)]\t(1.53226)\n",
      "train epoch is:8[36000/60000 (6e+01%)]\t(1.51087)\n",
      "train epoch is:8[38000/60000 (6e+01%)]\t(1.55548)\n",
      "train epoch is:8[40000/60000 (7e+01%)]\t(1.53257)\n",
      "train epoch is:8[42000/60000 (7e+01%)]\t(1.52535)\n",
      "train epoch is:8[44000/60000 (7e+01%)]\t(1.51356)\n",
      "train epoch is:8[46000/60000 (8e+01%)]\t(1.51925)\n",
      "train epoch is:8[48000/60000 (8e+01%)]\t(1.49381)\n",
      "train epoch is:8[50000/60000 (8e+01%)]\t(1.54892)\n",
      "train epoch is:8[52000/60000 (9e+01%)]\t(1.5144)\n",
      "train epoch is:8[54000/60000 (9e+01%)]\t(1.54041)\n",
      "train epoch is:8[56000/60000 (9e+01%)]\t(1.55464)\n",
      "train epoch is:8[58000/60000 (1e+02%)]\t(1.50841)\n",
      "\n",
      " Test set: Average Loss: 0.0149, Accuracy: 9721/10000 (97%\n",
      ")\n",
      "train epoch is:9[0/60000 (0e+00%)]\t(1.58119)\n",
      "train epoch is:9[2000/60000 (3e+00%)]\t(1.49424)\n",
      "train epoch is:9[4000/60000 (7e+00%)]\t(1.51521)\n",
      "train epoch is:9[6000/60000 (1e+01%)]\t(1.51159)\n",
      "train epoch is:9[8000/60000 (1e+01%)]\t(1.53698)\n",
      "train epoch is:9[10000/60000 (2e+01%)]\t(1.5104)\n",
      "train epoch is:9[12000/60000 (2e+01%)]\t(1.52974)\n",
      "train epoch is:9[14000/60000 (2e+01%)]\t(1.53633)\n",
      "train epoch is:9[16000/60000 (3e+01%)]\t(1.56126)\n",
      "train epoch is:9[18000/60000 (3e+01%)]\t(1.49609)\n",
      "train epoch is:9[20000/60000 (3e+01%)]\t(1.49958)\n",
      "train epoch is:9[22000/60000 (4e+01%)]\t(1.51812)\n",
      "train epoch is:9[24000/60000 (4e+01%)]\t(1.57432)\n",
      "train epoch is:9[26000/60000 (4e+01%)]\t(1.5349)\n",
      "train epoch is:9[28000/60000 (5e+01%)]\t(1.48819)\n",
      "train epoch is:9[30000/60000 (5e+01%)]\t(1.52537)\n",
      "train epoch is:9[32000/60000 (5e+01%)]\t(1.54571)\n",
      "train epoch is:9[34000/60000 (6e+01%)]\t(1.55525)\n",
      "train epoch is:9[36000/60000 (6e+01%)]\t(1.55316)\n",
      "train epoch is:9[38000/60000 (6e+01%)]\t(1.51211)\n",
      "train epoch is:9[40000/60000 (7e+01%)]\t(1.52558)\n",
      "train epoch is:9[42000/60000 (7e+01%)]\t(1.5609)\n",
      "train epoch is:9[44000/60000 (7e+01%)]\t(1.52291)\n",
      "train epoch is:9[46000/60000 (8e+01%)]\t(1.51975)\n",
      "train epoch is:9[48000/60000 (8e+01%)]\t(1.52547)\n",
      "train epoch is:9[50000/60000 (8e+01%)]\t(1.55746)\n",
      "train epoch is:9[52000/60000 (9e+01%)]\t(1.54315)\n",
      "train epoch is:9[54000/60000 (9e+01%)]\t(1.51102)\n",
      "train epoch is:9[56000/60000 (9e+01%)]\t(1.53137)\n",
      "train epoch is:9[58000/60000 (1e+02%)]\t(1.48636)\n",
      "\n",
      " Test set: Average Loss: 0.0149, Accuracy: 9727/10000 (97%\n",
      ")\n",
      "train epoch is:10[0/60000 (0e+00%)]\t(1.49043)\n",
      "train epoch is:10[2000/60000 (3e+00%)]\t(1.54938)\n",
      "train epoch is:10[4000/60000 (7e+00%)]\t(1.54911)\n",
      "train epoch is:10[6000/60000 (1e+01%)]\t(1.54183)\n",
      "train epoch is:10[8000/60000 (1e+01%)]\t(1.55097)\n",
      "train epoch is:10[10000/60000 (2e+01%)]\t(1.55306)\n",
      "train epoch is:10[12000/60000 (2e+01%)]\t(1.51444)\n",
      "train epoch is:10[14000/60000 (2e+01%)]\t(1.54296)\n",
      "train epoch is:10[16000/60000 (3e+01%)]\t(1.55178)\n",
      "train epoch is:10[18000/60000 (3e+01%)]\t(1.51067)\n",
      "train epoch is:10[20000/60000 (3e+01%)]\t(1.53061)\n",
      "train epoch is:10[22000/60000 (4e+01%)]\t(1.49319)\n",
      "train epoch is:10[24000/60000 (4e+01%)]\t(1.5416)\n",
      "train epoch is:10[26000/60000 (4e+01%)]\t(1.51958)\n",
      "train epoch is:10[28000/60000 (5e+01%)]\t(1.50891)\n",
      "train epoch is:10[30000/60000 (5e+01%)]\t(1.52275)\n",
      "train epoch is:10[32000/60000 (5e+01%)]\t(1.50992)\n",
      "train epoch is:10[34000/60000 (6e+01%)]\t(1.53252)\n",
      "train epoch is:10[36000/60000 (6e+01%)]\t(1.5283)\n",
      "train epoch is:10[38000/60000 (6e+01%)]\t(1.52823)\n",
      "train epoch is:10[40000/60000 (7e+01%)]\t(1.5194)\n",
      "train epoch is:10[42000/60000 (7e+01%)]\t(1.49763)\n",
      "train epoch is:10[44000/60000 (7e+01%)]\t(1.53954)\n",
      "train epoch is:10[46000/60000 (8e+01%)]\t(1.50967)\n",
      "train epoch is:10[48000/60000 (8e+01%)]\t(1.53866)\n",
      "train epoch is:10[50000/60000 (8e+01%)]\t(1.53666)\n",
      "train epoch is:10[52000/60000 (9e+01%)]\t(1.51613)\n",
      "train epoch is:10[54000/60000 (9e+01%)]\t(1.51139)\n",
      "train epoch is:10[56000/60000 (9e+01%)]\t(1.48355)\n",
      "train epoch is:10[58000/60000 (1e+02%)]\t(1.5504)\n",
      "\n",
      " Test set: Average Loss: 0.0149, Accuracy: 9751/10000 (98%\n",
      ")\n"
     ]
    }
   ],
   "source": [
    "for epoch  in range (1,11):\n",
    "    train(epoch)\n",
    "    test()\n"
   ]
  },
  {
   "cell_type": "code",
   "execution_count": 18,
   "metadata": {},
   "outputs": [
    {
     "name": "stdout",
     "output_type": "stream",
     "text": [
      "Model saved successfully\n"
     ]
    }
   ],
   "source": [
    "\n",
    "import torch\n",
    "try: \n",
    "    torch.save(model.state_dict(), \"mnist_cnn.pth\") \n",
    "    print(\"Model saved successfully\") \n",
    "except Exception as e: \n",
    "    print(f\"Error saving model: {e}\")\n"
   ]
  },
  {
   "cell_type": "code",
   "execution_count": 19,
   "metadata": {},
   "outputs": [
    {
     "name": "stdout",
     "output_type": "stream",
     "text": [
      "Model loaded successfully\n"
     ]
    }
   ],
   "source": [
    "try: \n",
    "    model.load_state_dict(torch.load(\"mnist_cnn.pth\"))\n",
    "    print(\"Model loaded successfully\") \n",
    "except Exception as e: \n",
    "    print(f\"Error loading model: {e}\")\n"
   ]
  },
  {
   "cell_type": "code",
   "execution_count": null,
   "metadata": {},
   "outputs": [
    {
     "name": "stdout",
     "output_type": "stream",
     "text": [
      "prediction :8\n"
     ]
    },
    {
     "data": {
      "image/png": "[encoded data removed]",
      "text/plain": [
       "<Figure size 640x480 with 1 Axes>"
      ]
     },
     "metadata": {},
     "output_type": "display_data"
    }
   ],
   "source": [
    "from random import randint\n",
    "import random\n",
    "import matplotlib.pyplot as plt\n",
    "\n",
    "model.eval()\n",
    "\n",
    "data, target = test_data[random.randint(0,1000)]\n",
    "\n",
    "data = data.unsqueeze(0).to(device)\n",
    "\n",
    "output= model(data)\n",
    "\n",
    "prediction = output.argmax(dim = 1, keepdim= True).item()\n",
    "\n",
    "print (f'prediction :{prediction}')\n",
    "\n",
    "image = data.squeeze(0).squeeze(0).cpu().numpy()\n",
    "\n",
    "plt.imshow(image, cmap='gray')\n",
    "plt.show()\n"
   ]
  },
  {
   "cell_type": "code",
   "execution_count": null,
   "metadata": {},
   "outputs": [],
   "source": []
  }
 ],
 "metadata": {
  "kernelspec": {
   "display_name": "Portfolio",
   "language": "python",
   "name": "python3"
  },
  "language_info": {
   "codemirror_mode": {
    "name": "ipython",
    "version": 3
   },
   "file_extension": ".py",
   "mimetype": "text/x-python",
   "name": "python",
   "nbconvert_exporter": "python",
   "pygments_lexer": "ipython3",
   "version": "3.13.2"
  }
 },
 "nbformat": 4,
 "nbformat_minor": 2
}
